{
  "nbformat": 4,
  "nbformat_minor": 0,
  "metadata": {
    "colab": {
      "provenance": []
    },
    "kernelspec": {
      "name": "python3",
      "display_name": "Python 3"
    },
    "language_info": {
      "name": "python"
    }
  },
  "cells": [
    {
      "cell_type": "code",
      "source": [],
      "metadata": {
        "id": "8Yd2CSGa-L2U"
      },
      "execution_count": null,
      "outputs": []
    },
    {
      "cell_type": "code",
      "source": [
        "a=\"sakshi\"\n",
        "b=\"BCA 5th sem\"\n",
        "print(\"my name is\",a,\"studing in\",b)"
      ],
      "metadata": {
        "id": "JWzWI6Bw-VPT"
      },
      "execution_count": null,
      "outputs": []
    },
    {
      "cell_type": "markdown",
      "source": [
        "basic syntax rule"
      ],
      "metadata": {
        "id": "XQ26cXezHluW"
      }
    },
    {
      "cell_type": "code",
      "source": [
        "print(\"hello,world!\")\n",
        "x=5\n",
        "y=10"
      ],
      "metadata": {
        "id": "nL73T8uPGFim"
      },
      "execution_count": null,
      "outputs": []
    },
    {
      "cell_type": "markdown",
      "source": [
        "indentation matters"
      ],
      "metadata": {
        "id": "79hKjxfaI1b0"
      }
    },
    {
      "cell_type": "code",
      "source": [
        "if x > 0:\n",
        "  print(\"x is positive\")\n",
        "  print(\"this is inside the if block\")"
      ],
      "metadata": {
        "id": "JFlgeT3AG7cN"
      },
      "execution_count": null,
      "outputs": []
    },
    {
      "cell_type": "markdown",
      "source": [
        "numeric types"
      ],
      "metadata": {
        "id": "H3F8VShIJYA0"
      }
    },
    {
      "cell_type": "code",
      "source": [
        "age=25\n",
        "height=5.9\n",
        "name=\"hi\"\n",
        "complex_num=3+4j"
      ],
      "metadata": {
        "id": "1O1d_6ycJW-9"
      },
      "execution_count": null,
      "outputs": []
    },
    {
      "cell_type": "markdown",
      "source": [
        "string type"
      ],
      "metadata": {
        "id": "Tngt0GDiKBX-"
      }
    },
    {
      "cell_type": "code",
      "source": [
        "name=\"Alice\"\n",
        "message=\"hello world\"\n",
        "multiline=\"\"\"this is a"
      ],
      "metadata": {
        "id": "HM0RIRawKHdk"
      },
      "execution_count": null,
      "outputs": []
    },
    {
      "cell_type": "markdown",
      "source": [
        "boolean type"
      ],
      "metadata": {
        "id": "mItCxHueNTQN"
      }
    },
    {
      "cell_type": "code",
      "source": [
        "is_active=True\n",
        "is_finished=False"
      ],
      "metadata": {
        "id": "VW46LabQNWUd"
      },
      "execution_count": null,
      "outputs": []
    },
    {
      "cell_type": "markdown",
      "source": [
        "type checking\n"
      ],
      "metadata": {
        "id": "W81m3sBeNsl1"
      }
    },
    {
      "cell_type": "code",
      "source": [
        "print(type(age))\n",
        "print(type(height))\n",
        "print(type(name))"
      ],
      "metadata": {
        "id": "d6d_POBXNv_1"
      },
      "execution_count": null,
      "outputs": []
    },
    {
      "cell_type": "markdown",
      "source": [
        "type converstion"
      ],
      "metadata": {
        "id": "GkVWkmRgOVbl"
      }
    },
    {
      "cell_type": "code",
      "source": [
        "str_number=\"123\"\n",
        "int_number=int(str_number)\n",
        "float_number=float(str_number)\n",
        "print(f\"origional:{str_number}(type:{type(str_number)})\")\n",
        "print(f\"integer:{int_number}(type:{type(int_number)})\")\n",
        "print(f\"float:{float_number}(type:{type(float_number)})\")"
      ],
      "metadata": {
        "id": "-XZrlGojOYpF"
      },
      "execution_count": null,
      "outputs": []
    },
    {
      "cell_type": "markdown",
      "source": [
        "personal information"
      ],
      "metadata": {
        "id": "fN5vRJxHiB7k"
      }
    },
    {
      "cell_type": "code",
      "source": [
        "first_name=\"your first name\"\n",
        "last_name=\"your last name\"\n",
        "age=25\n",
        "height=5.8\n",
        "is_student=True"
      ],
      "metadata": {
        "id": "FeMoQI0-iIc8"
      },
      "execution_count": null,
      "outputs": []
    },
    {
      "cell_type": "markdown",
      "source": [
        "print formated info"
      ],
      "metadata": {
        "id": "XUNQbgCNij_s"
      }
    },
    {
      "cell_type": "code",
      "source": [
        "print(f\"name:{first_name}{last_name}\")\n",
        "print(f\"age:{age}\")\n",
        "print(f\"height:{height}feet\")\n",
        "print(f\"student:{is_student}\")"
      ],
      "metadata": {
        "id": "cI2xOYdAim3r"
      },
      "execution_count": null,
      "outputs": []
    },
    {
      "cell_type": "markdown",
      "source": [
        "type conversions"
      ],
      "metadata": {
        "id": "n2S_bfoakmlU"
      }
    },
    {
      "cell_type": "code",
      "source": [
        "age_str=str(age)\n",
        "height_int=int(height)\n",
        "print(f\"age as string:{age_str}\")\n",
        "print(f\"height as integer:{height_int}\")"
      ],
      "metadata": {
        "id": "iDg67DMGkuGM"
      },
      "execution_count": null,
      "outputs": []
    },
    {
      "cell_type": "markdown",
      "source": [
        " operators and basic operation"
      ],
      "metadata": {
        "id": "5IS7TVEZluOc"
      }
    },
    {
      "cell_type": "markdown",
      "source": [
        "arithmetic operators"
      ],
      "metadata": {
        "id": "LLxaQkBBm-f9"
      }
    },
    {
      "cell_type": "code",
      "source": [
        "a=10\n",
        "b=20\n",
        "print(f\"addition:{a}+{b}={a+b}\")\n",
        "print(f\"subtraction:{a}-{b}={a-b}\")\n",
        "print(f\"multiplication:{a}*{b}={a*b}\")\n",
        "print(f\"division:{a}/{b}={a/b}\")\n",
        "print(f\" floor division:{a}//{b}={a//b}\")\n",
        "print(f\"modulus:{a}%{b}={a%b}\")\n",
        "print(f\"exponentation:{a}**{b}={a**b}\")\n",
        "\n",
        "\n"
      ],
      "metadata": {
        "id": "Nk6d_l8umzQc"
      },
      "execution_count": null,
      "outputs": []
    },
    {
      "cell_type": "markdown",
      "source": [
        "order of operations"
      ],
      "metadata": {
        "id": "-Ft3opQfpbNN"
      }
    },
    {
      "cell_type": "markdown",
      "source": [
        "- p-parentheses\n",
        "- e-exponents\n",
        "- m-multiplication\n",
        "- d-division\n",
        "- a-addition\n",
        "- s-subtraction\n",
        "\n"
      ],
      "metadata": {
        "id": "RogBE0lYpgX8"
      }
    },
    {
      "cell_type": "code",
      "source": [
        "result=2+3*4**2-1\n",
        "print(f\"2+3*4**2-1={result}\")"
      ],
      "metadata": {
        "id": "jm3vrPAop97V"
      },
      "execution_count": null,
      "outputs": []
    },
    {
      "cell_type": "markdown",
      "source": [
        "comparision or relational operators"
      ],
      "metadata": {
        "id": "-efKICQPson1"
      }
    },
    {
      "cell_type": "code",
      "source": [
        "x=5\n",
        "y=10\n",
        "print(f\"{x}=={y}:{x==y}\")\n",
        "print(f\"{x}!={y}:{x!=y}\")\n",
        "print(f\"{x}>{y}:{x>y}\")\n",
        "print(f\"{x}<{y}:{x<y}\")\n",
        "print(f\"{x}<={y}:{x<=y}\")\n",
        "print(f\"{x}>={y}:{x>=y}\")\n"
      ],
      "metadata": {
        "id": "2-7AYUGTtLi1"
      },
      "execution_count": null,
      "outputs": []
    },
    {
      "cell_type": "markdown",
      "source": [
        "string comparision"
      ],
      "metadata": {
        "id": "3laazmyou_nm"
      }
    },
    {
      "cell_type": "code",
      "source": [
        "name1=\"hi\"\n",
        "name2=\"hello\"\n",
        "print(f\"'{name1}'<'{name2}':{name1<name2}\")\n"
      ],
      "metadata": {
        "id": "CnL_RloKvGBV"
      },
      "execution_count": null,
      "outputs": []
    },
    {
      "cell_type": "markdown",
      "source": [
        "logical operators"
      ],
      "metadata": {
        "id": "50WdRcYJwcDd"
      }
    },
    {
      "cell_type": "code",
      "source": [
        "p=True\n",
        "q=False\n",
        "print(f\"p and q:{p and q}\")\n",
        "print(f\"p or q:{p or q}\")\n",
        "print(f\" not p:{not p}\")"
      ],
      "metadata": {
        "id": "KrTP3Wyewasm"
      },
      "execution_count": null,
      "outputs": []
    },
    {
      "cell_type": "code",
      "source": [
        "age=20\n",
        "has_license=True\n",
        "can_drive=age>=18 and has_license\n",
        "print(f\"can drive:{can_drive}\")"
      ],
      "metadata": {
        "id": "sAUs-9zIx2fO"
      },
      "execution_count": null,
      "outputs": []
    },
    {
      "cell_type": "code",
      "source": [
        "score=85\n",
        "is_present=True\n",
        "can_pass=score>=80 and is_present\n",
        "print(f\"can pass:{can_pass}\")"
      ],
      "metadata": {
        "id": "D09_GJmvyapt"
      },
      "execution_count": null,
      "outputs": []
    },
    {
      "cell_type": "code",
      "source": [
        "age=25\n",
        "annual_income=50000\n",
        "credit_score=720\n",
        "has_collateral=True"
      ],
      "metadata": {
        "id": "uzWqhvS5zSd2"
      },
      "execution_count": null,
      "outputs": []
    },
    {
      "cell_type": "code",
      "source": [
        "min_age=18\n",
        "min_income=30000\n",
        "min_credit_score=650"
      ],
      "metadata": {
        "id": "zzsWWnTHzuwO"
      },
      "execution_count": null,
      "outputs": []
    },
    {
      "cell_type": "code",
      "source": [
        "age_qualified=age>=min_age\n",
        "income_qualified=annual_income>=min_income\n",
        "credit_qualified=credit_score>=min_credit_score\n",
        "overall_qualified=age_qualified and income_qualified and credit_qualified"
      ],
      "metadata": {
        "id": "Aes_w9NK4G5n"
      },
      "execution_count": null,
      "outputs": []
    },
    {
      "cell_type": "markdown",
      "source": [
        "creating list"
      ],
      "metadata": {
        "id": "EWZxBsd7_lVB"
      }
    },
    {
      "cell_type": "code",
      "source": [
        "fruits=[\"apple\",\"banana\",\"orange\",\"grapes\"]\n",
        "numbers=[10,20,30,40,50]\n",
        "mixed_data=[1,\"hello\",3.14,True]\n"
      ],
      "metadata": {
        "id": "K-uLN-JV-8_3"
      },
      "execution_count": null,
      "outputs": []
    },
    {
      "cell_type": "markdown",
      "source": [
        "list indexing"
      ],
      "metadata": {
        "id": "rTdM754E_hQH"
      }
    },
    {
      "cell_type": "code",
      "source": [
        "print(f\"first fruit:{fruits[0]}\")\n",
        "print(f\"last fruit:{fruits[-1]}\")\n",
        "print(f\"second to last:{fruits[-2]}\")"
      ],
      "metadata": {
        "colab": {
          "base_uri": "https://localhost:8080/"
        },
        "id": "4z_WaIpW_o8g",
        "outputId": "5fa8cf15-c3fa-43cd-95a9-98c046acf220"
      },
      "execution_count": null,
      "outputs": [
        {
          "output_type": "stream",
          "name": "stdout",
          "text": [
            "first fruit:apple\n",
            "last fruit:grapes\n",
            "second to last:orange\n"
          ]
        }
      ]
    },
    {
      "cell_type": "markdown",
      "source": [
        "list methods"
      ],
      "metadata": {
        "id": "XH2XE9rOA4cp"
      }
    },
    {
      "cell_type": "code",
      "source": [
        "fruits.append(\"kiwi\")\n",
        "fruits.insert(1,\"strawberry\")\n",
        "removed=fruits.pop()\n",
        "print(f\"updated list:{fruits}\")\n",
        "print(f\"removed:{removed}\")"
      ],
      "metadata": {
        "colab": {
          "base_uri": "https://localhost:8080/"
        },
        "id": "zKu-GSgmC0Ap",
        "outputId": "f37cebf4-8d8b-491e-81ab-8a87782068d9"
      },
      "execution_count": null,
      "outputs": [
        {
          "output_type": "stream",
          "name": "stdout",
          "text": [
            "updated list:['apple', 'strawberry', 'banana', 'orange', 'grapes']\n",
            "removed:kiwi\n"
          ]
        }
      ]
    },
    {
      "cell_type": "markdown",
      "source": [
        "list operations"
      ],
      "metadata": {
        "id": "jYcdbIOGDlmP"
      }
    },
    {
      "cell_type": "code",
      "source": [
        "print(f\"length:{len(fruits)}\")\n",
        "print(f\"contains 'apple':{'apple'in fruits}\")\n",
        "print(f\"index of 'banana':{fruits.index('banana')}\")"
      ],
      "metadata": {
        "colab": {
          "base_uri": "https://localhost:8080/"
        },
        "id": "4M0N9bU6Cp8v",
        "outputId": "57fe9763-e83b-4e9c-a931-8b7ed457e971"
      },
      "execution_count": null,
      "outputs": [
        {
          "output_type": "stream",
          "name": "stdout",
          "text": [
            "length:5\n",
            "contains 'apple':True\n",
            "index of 'banana':2\n"
          ]
        }
      ]
    },
    {
      "cell_type": "markdown",
      "source": [
        "tuples"
      ],
      "metadata": {
        "id": "Pg_9t4S6EqZI"
      }
    },
    {
      "cell_type": "code",
      "source": [
        "coordinates=(10,20)\n",
        "rgb_color=(255,128,0)\n",
        "person_info=(\"alice\",25,\"engineer\",True)"
      ],
      "metadata": {
        "id": "NE2lSSToEmxR"
      },
      "execution_count": null,
      "outputs": []
    },
    {
      "cell_type": "markdown",
      "source": [
        "tuples unpacking"
      ],
      "metadata": {
        "id": "UYk_4ZG4FLJg"
      }
    },
    {
      "cell_type": "code",
      "source": [
        "x,y=coordinates\n",
        "print(f\"x:{x},y:{y}\")"
      ],
      "metadata": {
        "colab": {
          "base_uri": "https://localhost:8080/"
        },
        "id": "xEyNp7GUFTyo",
        "outputId": "57f69878-319d-4cfe-cafd-fc5afeca1166"
      },
      "execution_count": null,
      "outputs": [
        {
          "output_type": "stream",
          "name": "stdout",
          "text": [
            "x:10,y:20\n"
          ]
        }
      ]
    },
    {
      "cell_type": "markdown",
      "source": [
        "tuple method"
      ],
      "metadata": {
        "id": "ACfWTKuhFi4w"
      }
    },
    {
      "cell_type": "code",
      "source": [
        "print(f\"count of 25:{person_info.count(25)}\")\n",
        "print(f\"index of 'engineer':{person_info.index('engineer')}\")"
      ],
      "metadata": {
        "colab": {
          "base_uri": "https://localhost:8080/"
        },
        "id": "Plr-RM-qFmz_",
        "outputId": "b0013d07-1234-4b7f-d509-87bf88956ae8"
      },
      "execution_count": null,
      "outputs": [
        {
          "output_type": "stream",
          "name": "stdout",
          "text": [
            "count of 25:1\n",
            "index of 'engineer':2\n"
          ]
        }
      ]
    },
    {
      "cell_type": "markdown",
      "source": [
        "why use tuple"
      ],
      "metadata": {
        "id": "E6wRVoyGGAe4"
      }
    },
    {
      "cell_type": "markdown",
      "source": [
        "- immutable\n",
        "- slightly faster than lists\n",
        "- good for fixed connections\n"
      ],
      "metadata": {
        "id": "uQuygxx2Gbbp"
      }
    },
    {
      "cell_type": "code",
      "source": [],
      "metadata": {
        "id": "g8IvdObDGqyv"
      },
      "execution_count": null,
      "outputs": []
    },
    {
      "cell_type": "markdown",
      "source": [
        "dictionary creation"
      ],
      "metadata": {
        "id": "4IE2xSYeE-hp"
      }
    },
    {
      "cell_type": "code",
      "source": [
        "person={\n",
        "\"name\":\"alice johnson\",\n",
        "\"age\":23,\n",
        "\"profession\":\"software engineer\",\n",
        "\"salary\":75000,\n",
        "\"skills\":[\"python\",\"javascript\",\"sql\"]\n",
        "\n",
        "}"
      ],
      "metadata": {
        "id": "SNtpMvn0FPsh"
      },
      "execution_count": null,
      "outputs": []
    },
    {
      "cell_type": "markdown",
      "source": [
        "accessing value"
      ],
      "metadata": {
        "id": "miVOmON0GSVJ"
      }
    },
    {
      "cell_type": "code",
      "source": [
        "print(f\"name:{person['name']}\")\n",
        "print(f\"age:{person.get('age','unknown')}\")"
      ],
      "metadata": {
        "colab": {
          "base_uri": "https://localhost:8080/"
        },
        "id": "egj0CCLkGUkZ",
        "outputId": "3ed3761b-9379-40cc-e357-3178814f94f1"
      },
      "execution_count": null,
      "outputs": [
        {
          "output_type": "stream",
          "name": "stdout",
          "text": [
            "name:alice johnson\n",
            "age:23\n"
          ]
        }
      ]
    },
    {
      "cell_type": "markdown",
      "source": [
        "dictionary methods\n"
      ],
      "metadata": {
        "id": "yB3gM8wTGxYC"
      }
    },
    {
      "cell_type": "code",
      "source": [
        "print(f\"keys:{list(person.keys())}\")\n",
        "print(f\"values:{list(person.values())}\")\n",
        "print(f\"items:{list(person.items())}\")"
      ],
      "metadata": {
        "colab": {
          "base_uri": "https://localhost:8080/"
        },
        "id": "U7ZDh4s0G1J5",
        "outputId": "9ff1cb66-1e41-4443-a709-af6aea267d41"
      },
      "execution_count": null,
      "outputs": [
        {
          "output_type": "stream",
          "name": "stdout",
          "text": [
            "keys:['name', 'age', 'profession', 'salary', 'skills']\n",
            "values:['alice johnson', 23, 'software engineer', 75000, ['python', 'javascript', 'sql']]\n",
            "items:[('name', 'alice johnson'), ('age', 23), ('profession', 'software engineer'), ('salary', 75000), ('skills', ['python', 'javascript', 'sql'])]\n"
          ]
        }
      ]
    },
    {
      "cell_type": "markdown",
      "source": [
        "adding or updating"
      ],
      "metadata": {
        "id": "JYoTdDX4HU_J"
      }
    },
    {
      "cell_type": "code",
      "source": [
        "person[\"location\"]=\"new york\"\n",
        "person[\"salary\"]=20000"
      ],
      "metadata": {
        "id": "VePcEqkmHYOJ"
      },
      "execution_count": null,
      "outputs": []
    },
    {
      "cell_type": "markdown",
      "source": [
        "practical use case:inventory management"
      ],
      "metadata": {
        "id": "WWlRAm7OHs_h"
      }
    },
    {
      "cell_type": "code",
      "source": [
        "inventory={\n",
        "    \"laptops\":{\n",
        "        \"quantity\":50,\n",
        "        \"price\":999.99\n",
        "    },\n",
        "    \"phones\":{\n",
        "        \"quantity\":100,\n",
        "        \"price\":599.99\n",
        "    },\n",
        "    \"tablets\":{\n",
        "        \"quantity\":30,\n",
        "        \"price\":399.99\n",
        "    }\n",
        "\n",
        "}"
      ],
      "metadata": {
        "id": "TKlthLHbH3uR"
      },
      "execution_count": null,
      "outputs": []
    },
    {
      "cell_type": "markdown",
      "source": [
        "nested access"
      ],
      "metadata": {
        "id": "LWm_MEIIJKB6"
      }
    },
    {
      "cell_type": "code",
      "source": [
        "print(f\"laptop price:${inventory['laptops']['price']}\")"
      ],
      "metadata": {
        "colab": {
          "base_uri": "https://localhost:8080/"
        },
        "id": "9dtai-3IJP76",
        "outputId": "c396276c-f2c4-4a68-de48-c7eca6d620d2"
      },
      "execution_count": null,
      "outputs": [
        {
          "output_type": "stream",
          "name": "stdout",
          "text": [
            "laptop price:$999.99\n"
          ]
        }
      ]
    },
    {
      "cell_type": "markdown",
      "source": [
        "sets"
      ],
      "metadata": {
        "id": "GTwZaJwuKFnC"
      }
    },
    {
      "cell_type": "markdown",
      "source": [
        "set contain unque elements"
      ],
      "metadata": {
        "id": "7DoOgnvFKH3J"
      }
    },
    {
      "cell_type": "code",
      "source": [
        "colors={\"red\",\"green\",\"blue\",\"red\"}\n",
        "print(f\"colors:{colors}\")"
      ],
      "metadata": {
        "colab": {
          "base_uri": "https://localhost:8080/"
        },
        "id": "3IKJW3enKHNK",
        "outputId": "3969c8b1-0804-42f0-e607-7e09d4dcc3cd"
      },
      "execution_count": null,
      "outputs": [
        {
          "output_type": "stream",
          "name": "stdout",
          "text": [
            "colors:{'blue', 'green', 'red'}\n"
          ]
        }
      ]
    },
    {
      "cell_type": "markdown",
      "source": [
        "set operation"
      ],
      "metadata": {
        "id": "jNld2UPJKoAq"
      }
    },
    {
      "cell_type": "code",
      "source": [
        "team1_skills={\"python\",\"javascript\",\"sql\",\"react\"}\n",
        "team2_skills={\"javascript\",\"sql\",\"java\",\"spring\"}"
      ],
      "metadata": {
        "id": "Zg-0kSDHKpsx"
      },
      "execution_count": null,
      "outputs": []
    },
    {
      "cell_type": "markdown",
      "source": [
        "common operators"
      ],
      "metadata": {
        "id": "B52icfW6LImJ"
      }
    },
    {
      "cell_type": "code",
      "source": [
        "print(f\"common skills:{team1_skills.intersection(team2_skills)}\")\n",
        "print(f\"all skills:{team1_skills.union(team2_skills)}\")\n",
        "print(f\"team1 only:{team1_skills.difference(team2_skills)}\")"
      ],
      "metadata": {
        "colab": {
          "base_uri": "https://localhost:8080/"
        },
        "id": "XO_LlUxnLaZ0",
        "outputId": "b7a353ae-b955-4681-c9a4-a93aca555901"
      },
      "execution_count": null,
      "outputs": [
        {
          "output_type": "stream",
          "name": "stdout",
          "text": [
            "common skills:{'javascript', 'sql'}\n",
            "all skills:{'python', 'spring', 'react', 'java', 'javascript', 'sql'}\n",
            "team1 only:{'react', 'python'}\n"
          ]
        }
      ]
    },
    {
      "cell_type": "code",
      "source": [
        "colors.add(\"purple\")\n",
        "colors.update([\"wheat\",\"blue\"])\n",
        "print(f\"update colors:{colors}\")"
      ],
      "metadata": {
        "colab": {
          "base_uri": "https://localhost:8080/"
        },
        "id": "Gt30jfUJM65S",
        "outputId": "23bcc9df-1709-4a90-c20f-f136384971a5"
      },
      "execution_count": null,
      "outputs": [
        {
          "output_type": "stream",
          "name": "stdout",
          "text": [
            "update colors:{'wheat', 'green', 'purple', 'red', 'blue'}\n"
          ]
        }
      ]
    },
    {
      "cell_type": "markdown",
      "source": [
        "basic if else"
      ],
      "metadata": {
        "id": "QCIERw4cOc2q"
      }
    },
    {
      "cell_type": "code",
      "source": [
        "def get_grade_letter(score):\n",
        "  if score>=90:\n",
        "     return \"a\"\n",
        "  elif score>=80:\n",
        "     return \"b\"\n",
        "  elif score>=70:\n",
        "     return \"c\"\n",
        "  elif score>=60:\n",
        "     return \"d\"\n",
        "  else:\n",
        "    return \"f\""
      ],
      "metadata": {
        "id": "Uc7n4JFVOgSa"
      },
      "execution_count": null,
      "outputs": []
    },
    {
      "cell_type": "markdown",
      "source": [
        "test the function"
      ],
      "metadata": {
        "id": "jyNBeyZ0Q2sK"
      }
    },
    {
      "cell_type": "code",
      "source": [
        "test_scores=[95,83,72,65,58]\n",
        "for score in test_scores:\n",
        "  grade=get_grade_letter(score)\n",
        "  print(f\"score{score}:grade{grade}\")"
      ],
      "metadata": {
        "colab": {
          "base_uri": "https://localhost:8080/"
        },
        "id": "WPL1z48TQ6Ei",
        "outputId": "b2a865e1-7fa8-4e5a-97df-f7bc520b4225"
      },
      "execution_count": null,
      "outputs": [
        {
          "output_type": "stream",
          "name": "stdout",
          "text": [
            "score95:gradea\n",
            "score83:gradeb\n",
            "score72:gradec\n",
            "score65:graded\n",
            "score58:gradef\n"
          ]
        }
      ]
    },
    {
      "cell_type": "markdown",
      "source": [
        "nested condition"
      ],
      "metadata": {
        "id": "IdHglvZnRsvq"
      }
    },
    {
      "cell_type": "code",
      "source": [
        "def get_shipping_cost(weight,distance):\n",
        "  base_cost=5.0\n",
        "\n",
        "  if weight<=1:\n",
        "    weight_cost=2.0\n",
        "  elif weight<=5:\n",
        "    weight_cost=5.0\n",
        "  else:\n",
        "    weight_cost=10.0\n",
        "\n",
        "  if distance<=100:\n",
        "    distance_cost=1.0\n",
        "  elif distance<=500:\n",
        "    distance_cost=3.0\n",
        "  else:\n",
        "    distance_cost=7.0\n",
        "  return base_cost + weight_cost + distance_cost"
      ],
      "metadata": {
        "id": "P9JoyUKiRvGq"
      },
      "execution_count": null,
      "outputs": []
    },
    {
      "cell_type": "markdown",
      "source": [
        "test shippig costs"
      ],
      "metadata": {
        "id": "pCVlqovfT4oz"
      }
    },
    {
      "cell_type": "code",
      "source": [
        "print(f\"light,close:${get_shipping_cost(0.5,50)}\")\n",
        "print(f\"heavy,far:${get_shipping_cost(10,800)}\")"
      ],
      "metadata": {
        "colab": {
          "base_uri": "https://localhost:8080/"
        },
        "id": "kLrFUzOeT9oD",
        "outputId": "b3c13ea2-dbb2-41d2-8f6c-71ed1d68489d"
      },
      "execution_count": null,
      "outputs": [
        {
          "output_type": "stream",
          "name": "stdout",
          "text": [
            "light,close:$8.0\n",
            "heavy,far:$22.0\n"
          ]
        }
      ]
    },
    {
      "cell_type": "markdown",
      "source": [
        "loops for loops"
      ],
      "metadata": {
        "id": "8RFEAz8PWkRU"
      }
    },
    {
      "cell_type": "code",
      "source": [
        "fruits=[\"apple\",\"banana\",\"orange\",\"graps\"]\n",
        "for fruit in fruits:\n",
        "  print(f\"i like {fruit}\")"
      ],
      "metadata": {
        "colab": {
          "base_uri": "https://localhost:8080/"
        },
        "id": "qcqH4wIlWzDr",
        "outputId": "f61e7390-1732-4aa7-e444-b82d57f4753b"
      },
      "execution_count": null,
      "outputs": [
        {
          "output_type": "stream",
          "name": "stdout",
          "text": [
            "i like apple\n",
            "i like banana\n",
            "i like orange\n",
            "i like graps\n"
          ]
        }
      ]
    },
    {
      "cell_type": "markdown",
      "source": [
        "lop with enumerate"
      ],
      "metadata": {
        "id": "IAEdPZL5X0dT"
      }
    },
    {
      "cell_type": "code",
      "source": [
        "for i,fruit in enumerate(fruits):\n",
        "  print(f\"{i+1}.{fruit}\")"
      ],
      "metadata": {
        "colab": {
          "base_uri": "https://localhost:8080/"
        },
        "id": "QQ8UmJ-TYPLL",
        "outputId": "829c89a8-6228-4e91-8b28-dfa671679251"
      },
      "execution_count": null,
      "outputs": [
        {
          "output_type": "stream",
          "name": "stdout",
          "text": [
            "1.apple\n",
            "2.banana\n",
            "3.orange\n",
            "4.graps\n"
          ]
        }
      ]
    },
    {
      "cell_type": "markdown",
      "source": [
        "loop with range"
      ],
      "metadata": {
        "id": "6G_0FXnasRO4"
      }
    },
    {
      "cell_type": "code",
      "source": [
        "for day in range(1,8):\n",
        "  print(f\"day {day} of the week\")"
      ],
      "metadata": {
        "colab": {
          "base_uri": "https://localhost:8080/"
        },
        "id": "vNQNJejxsTrI",
        "outputId": "c6efedea-daeb-4f17-cc6b-c8e4c37ec946"
      },
      "execution_count": null,
      "outputs": [
        {
          "output_type": "stream",
          "name": "stdout",
          "text": [
            "day 1 of the week\n",
            "day 2 of the week\n",
            "day 3 of the week\n",
            "day 4 of the week\n",
            "day 5 of the week\n",
            "day 6 of the week\n",
            "day 7 of the week\n"
          ]
        }
      ]
    },
    {
      "cell_type": "markdown",
      "source": [
        "nested loops creating a multiplication table"
      ],
      "metadata": {
        "id": "v60F2ZR0tFO4"
      }
    },
    {
      "cell_type": "code",
      "source": [
        "print(\"multiplication table\")\n",
        "for i in range(1,6):\n",
        "  for j in range(1,6):\n",
        "    product=i*j\n",
        "    print(f\"{i} x {j} = {product:2d}\",end=\"\")\n",
        "    print()"
      ],
      "metadata": {
        "colab": {
          "base_uri": "https://localhost:8080/"
        },
        "id": "q5tYNoRYtOyQ",
        "outputId": "187a1191-d117-4b1e-fd94-30d65bb53b15"
      },
      "execution_count": null,
      "outputs": [
        {
          "output_type": "stream",
          "name": "stdout",
          "text": [
            "multiplication table\n",
            "1 x 1 =  1\n",
            "1 x 2 =  2\n",
            "1 x 3 =  3\n",
            "1 x 4 =  4\n",
            "1 x 5 =  5\n",
            "2 x 1 =  2\n",
            "2 x 2 =  4\n",
            "2 x 3 =  6\n",
            "2 x 4 =  8\n",
            "2 x 5 = 10\n",
            "3 x 1 =  3\n",
            "3 x 2 =  6\n",
            "3 x 3 =  9\n",
            "3 x 4 = 12\n",
            "3 x 5 = 15\n",
            "4 x 1 =  4\n",
            "4 x 2 =  8\n",
            "4 x 3 = 12\n",
            "4 x 4 = 16\n",
            "4 x 5 = 20\n",
            "5 x 1 =  5\n",
            "5 x 2 = 10\n",
            "5 x 3 = 15\n",
            "5 x 4 = 20\n",
            "5 x 5 = 25\n"
          ]
        }
      ]
    },
    {
      "cell_type": "markdown",
      "source": [
        "processing data with loops"
      ],
      "metadata": {
        "id": "wzzruk1Jtzrg"
      }
    },
    {
      "cell_type": "code",
      "source": [
        "sales_data=[\n",
        "    {\"product\":\"laptop\",\"price\":999,\"quantity\":5},\n",
        "    {\"product\":\"phone\",\"price\":599,\"quantity\":10},\n",
        "    {\"product\":\"tablet\",\"price\":399,\"quantity\":8}\n",
        "]\n",
        "total_revenue=0\n",
        "\n",
        "for item in sales_data:\n",
        "  item_revenue=item[\"price\"] * item[\"quantity\"]\n",
        "  total_revenue += item_revenue\n",
        "  print(f\"{item['product']}:${item_revenue}\")\n",
        "  print(f\"total revenue:${total_revenue}\")"
      ],
      "metadata": {
        "colab": {
          "base_uri": "https://localhost:8080/"
        },
        "id": "EJ0BqqowuTvA",
        "outputId": "e33c69be-b9f7-4159-a6b6-c5f0365af63c"
      },
      "execution_count": null,
      "outputs": [
        {
          "output_type": "stream",
          "name": "stdout",
          "text": [
            "laptop:$4995\n",
            "total revenue:$4995\n",
            "phone:$5990\n",
            "total revenue:$10985\n",
            "tablet:$3192\n",
            "total revenue:$14177\n"
          ]
        }
      ]
    },
    {
      "cell_type": "markdown",
      "source": [
        "while loop for user input simulation"
      ],
      "metadata": {
        "id": "lsCqyNJiwM_R"
      }
    },
    {
      "cell_type": "code",
      "source": [
        "def simple_guessing_game():\n",
        "  target=7\n",
        "  guess=0\n",
        "  attempts=0\n",
        "  print(\"guess the number between 1 and 10\")\n",
        "\n",
        "  while guess != target:\n",
        "\n",
        "    import random\n",
        "    guess = random.randint(1,10)\n",
        "    attempts+=1\n",
        "\n",
        "    if guess<target:\n",
        "      print(f\"guess{attempts}:{guess}-too low!\")\n",
        "    elif guess>target:\n",
        "      print(f\"guess{attempts}:{guess}-too hight!\")\n",
        "    elif guess<target:\n",
        "      print(f\"guess{attempts}:{guess}-correct!\")\n",
        "\n",
        "      if attempts>10:\n",
        "        print(\"max attempts reached!\")\n",
        "        break\n",
        "  print(f\"game finished in{attempts}attempts\")\n",
        "\n",
        "simple_guessing_game\n"
      ],
      "metadata": {
        "colab": {
          "base_uri": "https://localhost:8080/",
          "height": 103
        },
        "id": "q0iT7peVwzj5",
        "outputId": "1a1867c0-dd22-401a-a01e-2a594e36b560"
      },
      "execution_count": null,
      "outputs": [
        {
          "output_type": "execute_result",
          "data": {
            "text/plain": [
              "<function __main__.simple_guessing_game()>"
            ],
            "text/html": [
              "<div style=\"max-width:800px; border: 1px solid var(--colab-border-color);\"><style>\n",
              "      pre.function-repr-contents {\n",
              "        overflow-x: auto;\n",
              "        padding: 8px 12px;\n",
              "        max-height: 500px;\n",
              "      }\n",
              "\n",
              "      pre.function-repr-contents.function-repr-contents-collapsed {\n",
              "        cursor: pointer;\n",
              "        max-height: 100px;\n",
              "      }\n",
              "    </style>\n",
              "    <pre style=\"white-space: initial; background:\n",
              "         var(--colab-secondary-surface-color); padding: 8px 12px;\n",
              "         border-bottom: 1px solid var(--colab-border-color);\"><b>simple_guessing_game</b><br/>def simple_guessing_game()</pre><pre class=\"function-repr-contents function-repr-contents-collapsed\" style=\"\"><a class=\"filepath\" style=\"display:none\" href=\"#\">/tmp/ipython-input-4275804260.py</a>&lt;no docstring&gt;</pre></div>"
            ]
          },
          "metadata": {},
          "execution_count": 93
        }
      ]
    },
    {
      "cell_type": "markdown",
      "source": [
        "while loop for processing"
      ],
      "metadata": {
        "id": "Tkpq9vP30Mdi"
      }
    },
    {
      "cell_type": "code",
      "source": [
        "def process_queue():\n",
        "  queue=[\"task 1\",\"task 2\",\"task 3\",\"task 4\"]\n",
        "\n",
        "  while queue:\n",
        "    current_task=queue.pop(0)\n",
        "    print(f\"processing:{current_task}\")\n",
        "\n",
        "    print(f\"remaining tasks:{len(queue)}\")\n",
        "\n",
        "  print(\"all tasks completed!\")\n",
        "\n",
        "process_queue()"
      ],
      "metadata": {
        "colab": {
          "base_uri": "https://localhost:8080/"
        },
        "id": "w1A_IwZo0QbZ",
        "outputId": "c0ed2665-1f8e-49e3-d7d5-e6c9c7ba69a6"
      },
      "execution_count": null,
      "outputs": [
        {
          "output_type": "stream",
          "name": "stdout",
          "text": [
            "processing:task 1\n",
            "remaining tasks:3\n",
            "processing:task 2\n",
            "remaining tasks:2\n",
            "processing:task 3\n",
            "remaining tasks:1\n",
            "processing:task 4\n",
            "remaining tasks:0\n",
            "all tasks completed!\n"
          ]
        }
      ]
    },
    {
      "cell_type": "markdown",
      "source": [
        "function basic"
      ],
      "metadata": {
        "id": "jSNU2XGZ1kGS"
      }
    },
    {
      "cell_type": "markdown",
      "source": [
        "basic function definition"
      ],
      "metadata": {
        "id": "7u9m2HnB1-N7"
      }
    },
    {
      "cell_type": "code",
      "source": [
        "def greet(name):\n",
        "  return f\"hello,{name}!\""
      ],
      "metadata": {
        "id": "SRoPpEZV1zop"
      },
      "execution_count": null,
      "outputs": []
    },
    {
      "cell_type": "markdown",
      "source": [
        "function call"
      ],
      "metadata": {
        "id": "pHuCEJd-2fyZ"
      }
    },
    {
      "cell_type": "code",
      "source": [
        "message=greet(\"python prgmer\")\n",
        "print(message)"
      ],
      "metadata": {
        "colab": {
          "base_uri": "https://localhost:8080/"
        },
        "id": "Z-eaBzYn2fcC",
        "outputId": "b93ac5d5-1346-4e5e-a841-ee5ca9177368"
      },
      "execution_count": null,
      "outputs": [
        {
          "output_type": "stream",
          "name": "stdout",
          "text": [
            "hello,python prgmer!\n"
          ]
        }
      ]
    },
    {
      "cell_type": "markdown",
      "source": [
        "function with multiple parameter\n"
      ],
      "metadata": {
        "id": "AoL2et7p22k5"
      }
    },
    {
      "cell_type": "code",
      "source": [
        "def calculate_area(length,width):\n",
        "  area=length*width\n",
        "  return area\n"
      ],
      "metadata": {
        "id": "G1hRIIAP28WR"
      },
      "execution_count": null,
      "outputs": []
    },
    {
      "cell_type": "markdown",
      "source": [
        "test the function"
      ],
      "metadata": {
        "id": "gkZrIe6n3ZR7"
      }
    },
    {
      "cell_type": "code",
      "source": [
        "room_area=calculate_area(12,10)\n",
        "print(f\"room are:{room_area}square feet\")"
      ],
      "metadata": {
        "colab": {
          "base_uri": "https://localhost:8080/"
        },
        "id": "rP3wEIOI3eBq",
        "outputId": "4e398422-7a8a-4e43-b686-c8e524c8e7a6"
      },
      "execution_count": null,
      "outputs": [
        {
          "output_type": "stream",
          "name": "stdout",
          "text": [
            "room are:120square feet\n"
          ]
        }
      ]
    },
    {
      "cell_type": "markdown",
      "source": [
        "function with default parameter"
      ],
      "metadata": {
        "id": "JA9yWtQI4BrC"
      }
    },
    {
      "cell_type": "markdown",
      "source": [],
      "metadata": {
        "id": "zLVIUMCa4dHq"
      }
    },
    {
      "cell_type": "code",
      "source": [
        "def create_user_profile(name,age=18,location=\"unknown\",active=True):\n",
        "  return{\n",
        "      \"name\":name,\n",
        "      \"age\":age,\n",
        "      \"location\":location,\n",
        "      \"active\":active\n",
        "  }\n"
      ],
      "metadata": {
        "id": "Csmhf5r84FgZ"
      },
      "execution_count": null,
      "outputs": []
    },
    {
      "cell_type": "markdown",
      "source": [
        "different ways to call"
      ],
      "metadata": {
        "id": "C-k_LOtA5JbK"
      }
    },
    {
      "cell_type": "code",
      "source": [
        "profile1=create_user_profile(\"alice\")\n",
        "profile2=create_user_profile(\"bob\",25)\n",
        "profile3=create_user_profile(\"charlie\", location=\"new york\",age=30)\n",
        "\n",
        "print(f\"profile 1:{profile1}\")\n",
        "print(f\"profile 2:{profile2}\")\n",
        "print(f\"profile 3:{profile3}\")"
      ],
      "metadata": {
        "colab": {
          "base_uri": "https://localhost:8080/"
        },
        "id": "TN7Xy_Nx5PLp",
        "outputId": "a8be77cb-427c-4230-da4b-26c2b1233659"
      },
      "execution_count": null,
      "outputs": [
        {
          "output_type": "stream",
          "name": "stdout",
          "text": [
            "profile 1:{'name': 'alice', 'age': 18, 'location': 'unknown', 'active': True}\n",
            "profile 2:{'name': 'bob', 'age': 25, 'location': 'unknown', 'active': True}\n",
            "profile 3:{'name': 'charlie', 'age': 30, 'location': 'new york', 'active': True}\n"
          ]
        }
      ]
    },
    {
      "cell_type": "markdown",
      "source": [
        "function returning multiple values"
      ],
      "metadata": {
        "id": "eb4Ok96s8xU6"
      }
    },
    {
      "cell_type": "code",
      "source": [
        "def analyze_text(text):\n",
        "  words=text.split()\n",
        "  word_count=len(words)\n",
        "  char_count=len(text)\n",
        "  char_count_no_spaces=len(text.replace(\" \",\"\"))\n",
        "\n",
        "  return word_count,char_count,char_count_no_spaces"
      ],
      "metadata": {
        "id": "i6569DKw83I6"
      },
      "execution_count": null,
      "outputs": []
    },
    {
      "cell_type": "markdown",
      "source": [
        "test with sample text"
      ],
      "metadata": {
        "id": "Hx9L7mJV9nDT"
      }
    },
    {
      "cell_type": "code",
      "source": [
        "sample_text=\"python is a powerfull programming language\"\n",
        "\n",
        "words, chars, chars_no_space=analyze_text(sample_text)\n",
        "\n",
        "print(f\"text:'{sample_text}'\")\n",
        "print(f\"word count:{words}\")\n",
        "print(f\"character count:{chars}\")\n",
        "print(f\"characters(no spaces):{chars_no_space}\")"
      ],
      "metadata": {
        "colab": {
          "base_uri": "https://localhost:8080/"
        },
        "id": "M1PR-Si59s6K",
        "outputId": "0f392efd-f4ca-4367-f8ee-846f2a684ccd"
      },
      "execution_count": null,
      "outputs": [
        {
          "metadata": {
            "tags": null
          },
          "name": "stdout",
          "output_type": "stream",
          "text": [
            "text:'python is a powerfull programming language'\n",
            "word count:6\n",
            "character count:42\n",
            "characters(no spaces):37\n"
          ]
        }
      ]
    },
    {
      "cell_type": "markdown",
      "source": [
        "variable_length arguments"
      ],
      "metadata": {
        "id": "5y5zYruQ_YHD"
      }
    },
    {
      "cell_type": "code",
      "source": [
        "def calculate_average(*numbers):\n",
        "  if not numbers:\n",
        "    return 0\n",
        "\n",
        "  return sum(numbers)/len(numbers)"
      ],
      "metadata": {
        "id": "prHZwf08_dKS"
      },
      "execution_count": null,
      "outputs": []
    },
    {
      "cell_type": "markdown",
      "source": [
        "test with different numbers of arguments"
      ],
      "metadata": {
        "id": "iLpjDDQ8ABIz"
      }
    },
    {
      "cell_type": "code",
      "source": [
        "avg1=calculate_average(10,20,30)\n",
        "avg2=calculate_average(5,15,25,35,45)\n",
        "avg3=calculate_average(100)"
      ],
      "metadata": {
        "id": "B_2XB5fQAL0x"
      },
      "execution_count": null,
      "outputs": []
    },
    {
      "cell_type": "code",
      "source": [
        "print(f\"average of 10,20,30:{avg1}\")\n",
        "print(f\"average of 5,15,25,35,45:{avg2}\")\n",
        "print(f\"average of 100:{avg3}\")"
      ],
      "metadata": {
        "colab": {
          "base_uri": "https://localhost:8080/"
        },
        "id": "_G2hoWTpAoFa",
        "outputId": "bbe57b39-44eb-488f-fb6f-ee4244a8fc9b"
      },
      "execution_count": null,
      "outputs": [
        {
          "output_type": "stream",
          "name": "stdout",
          "text": [
            "average of 10,20,30:20.0\n",
            "average of 5,15,25,35,45:25.0\n",
            "average of 100:100.0\n"
          ]
        }
      ]
    },
    {
      "cell_type": "markdown",
      "source": [
        "keyword arguments"
      ],
      "metadata": {
        "id": "1xdziQ63BEnS"
      }
    },
    {
      "cell_type": "code",
      "source": [
        "def create_report(**data):\n",
        "  print(\"===report===\")\n",
        "\n",
        "  for key,value in data.items():\n",
        "    print(f\"{key.replace('_',' ').title()}:{value}\")\n",
        "\n",
        "  print(\"==============\")\n",
        "\n",
        "create_report(\n",
        "        title=\"Monthly Sales Reports\",\n",
        "        date=\"2024-01-01\",\n",
        "        total_sales=15000,\n",
        "        new_customers=25,\n",
        "        returning_customers=150\n",
        "    )"
      ],
      "metadata": {
        "colab": {
          "base_uri": "https://localhost:8080/"
        },
        "id": "26tgpuFFBPt6",
        "outputId": "79f7ecaf-78fc-4715-9e00-fbe149911e2f"
      },
      "execution_count": null,
      "outputs": [
        {
          "output_type": "stream",
          "name": "stdout",
          "text": [
            "===report===\n",
            "Title:Monthly Sales Reports\n",
            "Date:2024-01-01\n",
            "Total Sales:15000\n",
            "New Customers:25\n",
            "Returning Customers:150\n",
            "==============\n"
          ]
        }
      ]
    },
    {
      "cell_type": "markdown",
      "source": [
        "lambda function(anonymous function)"
      ],
      "metadata": {
        "id": "FGBo1woQDwet"
      }
    },
    {
      "cell_type": "markdown",
      "source": [
        "regular function"
      ],
      "metadata": {
        "id": "7osQP1MrEAJT"
      }
    },
    {
      "cell_type": "code",
      "source": [
        "def square(x):\n",
        "  return x ** 2"
      ],
      "metadata": {
        "id": "ILiZvVIkD7Ij"
      },
      "execution_count": null,
      "outputs": []
    },
    {
      "cell_type": "markdown",
      "source": [
        "lambda equivalent"
      ],
      "metadata": {
        "id": "7imgGfO9ENea"
      }
    },
    {
      "cell_type": "code",
      "source": [
        "square_lambda=lambda x: x**2\n",
        "print(f\"regular function:{square(5)}\")\n",
        "print(f\"lambda function:{square_lambda(5)}\")"
      ],
      "metadata": {
        "colab": {
          "base_uri": "https://localhost:8080/"
        },
        "id": "hK2Wr9IYESBi",
        "outputId": "2de47e8b-6140-4adb-84a6-7b8f7c5fffe8"
      },
      "execution_count": null,
      "outputs": [
        {
          "output_type": "stream",
          "name": "stdout",
          "text": [
            "regular function:25\n",
            "lambda function:25\n"
          ]
        }
      ]
    },
    {
      "cell_type": "markdown",
      "source": [
        "lambda with multiple arguments"
      ],
      "metadata": {
        "id": "JUONBaHvEwjb"
      }
    },
    {
      "cell_type": "code",
      "source": [
        "multiply=lambda x,y,:x*y\n",
        "print(f\"multiply:{multiply(3,4)}\")"
      ],
      "metadata": {
        "colab": {
          "base_uri": "https://localhost:8080/"
        },
        "id": "R-yiduQ2HY6b",
        "outputId": "f229f6b8-2e94-470b-d1ef-484adc96b953"
      },
      "execution_count": null,
      "outputs": [
        {
          "output_type": "stream",
          "name": "stdout",
          "text": [
            "multiply:12\n"
          ]
        }
      ]
    },
    {
      "cell_type": "markdown",
      "source": [
        "lambda with built-functions"
      ],
      "metadata": {
        "id": "fr88BXkSH1dU"
      }
    },
    {
      "cell_type": "code",
      "source": [
        "numbers=[1,2,3,4,5]\n",
        "squared=list(map(lambda x: x**2,numbers))\n",
        "print(f\"squared numbers:{squared}\")"
      ],
      "metadata": {
        "colab": {
          "base_uri": "https://localhost:8080/"
        },
        "id": "ybOe8jN1H7xb",
        "outputId": "bd9ac06f-44dd-45c5-b1e5-7bca0b9f4a92"
      },
      "execution_count": null,
      "outputs": [
        {
          "output_type": "stream",
          "name": "stdout",
          "text": [
            "squared numbers:[1, 4, 9, 16, 25]\n"
          ]
        }
      ]
    },
    {
      "cell_type": "markdown",
      "source": [
        "filtering with lambda"
      ],
      "metadata": {
        "id": "HLrpbE7zIp9E"
      }
    },
    {
      "cell_type": "code",
      "source": [
        "ages=[16,21,35,12,45,18,67]\n",
        "adults=list(filter(lambda age: age>=18, ages ))\n",
        "print(f\"adult ages:{adults}\")"
      ],
      "metadata": {
        "colab": {
          "base_uri": "https://localhost:8080/"
        },
        "id": "5n5dI8EmIuEb",
        "outputId": "452d7b26-60e1-493d-8e74-70854d7b7c7a"
      },
      "execution_count": null,
      "outputs": [
        {
          "output_type": "stream",
          "name": "stdout",
          "text": [
            "adult ages:[21, 35, 45, 18, 67]\n"
          ]
        }
      ]
    },
    {
      "cell_type": "markdown",
      "source": [
        "sorting with lambda"
      ],
      "metadata": {
        "id": "LT0YuJtjJQUL"
      }
    },
    {
      "cell_type": "code",
      "source": [
        "people=[\n",
        "    {\"name\":\"alice\",\"age\":30},\n",
        "    {\"name\":\"bob\",\"age\":25},\n",
        "    {\"name\":\"charlie\",\"age\":35}\n",
        "]\n",
        "sorted_people=sorted(\n",
        "    people,\n",
        "    key=lambda person: person[\"age\"])\n",
        "print(\"people sorted by age:\")\n",
        "\n",
        "for person in sorted_people:\n",
        "    print(f\"{person['name']}:{person['age']}\")\n",
        "\n"
      ],
      "metadata": {
        "colab": {
          "base_uri": "https://localhost:8080/"
        },
        "id": "gOPGrTogJUK7",
        "outputId": "95d7aeb5-8bdf-4601-9b84-79e3964c6b62"
      },
      "execution_count": null,
      "outputs": [
        {
          "output_type": "stream",
          "name": "stdout",
          "text": [
            "people sorted by age:\n",
            "bob:25\n",
            "alice:30\n",
            "charlie:35\n"
          ]
        }
      ]
    }
  ]
}